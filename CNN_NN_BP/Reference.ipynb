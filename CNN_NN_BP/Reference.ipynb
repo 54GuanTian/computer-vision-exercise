{
 "cells": [
  {
   "cell_type": "markdown",
   "metadata": {},
   "source": [
    "# Reference\n",
    "@董峦老师 code-assignment5  \n",
    "\n",
    "@吴恩达 CNN  https://www.bilibili.com/video/BV1FT4y1E74V?p=137  \n",
    "\n",
    "@3Blue1Brown【 动画演示 】:   \n",
    "BP深度学习之反向传播算法 上/下 Part 3 ver 0.9 beta https://www.bilibili.com/video/BV16x411V7Qg?p=1官方双语】  \n",
    "深度学习之梯度下降法 Part 2 ver 0.9  beta https://www.bilibili.com/video/BV1Ux411j7ri   \n",
    "\n",
    "@Jack Cui 深度学习实战教程(四)：卷积神经网络【后向传播的推导】 https://cuijiahua.com/blog/2018/12/dl-10.html  \n",
    "\n",
    "@黄海广 【吴恩达作业参考答案】https://www.kesci.com/mw/project/5de0d28eca27f8002c4b2020"
   ]
  }
 ],
 "metadata": {
  "kernelspec": {
   "display_name": "Python 3",
   "language": "python",
   "name": "python3"
  },
  "language_info": {
   "codemirror_mode": {
    "name": "ipython",
    "version": 3
   },
   "file_extension": ".py",
   "mimetype": "text/x-python",
   "name": "python",
   "nbconvert_exporter": "python",
   "pygments_lexer": "ipython3",
   "version": "3.6.5"
  }
 },
 "nbformat": 4,
 "nbformat_minor": 2
}
